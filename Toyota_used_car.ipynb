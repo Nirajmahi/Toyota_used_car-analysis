{
 "cells": [
  {
   "cell_type": "code",
   "execution_count": 30,
   "id": "9e2d54d6",
   "metadata": {},
   "outputs": [],
   "source": [
    "import numpy as np \n",
    "import pandas as pd \n",
    "import matplotlib.pyplot as plt\n",
    "import seaborn as sns\n",
    "sns.set_style(\"whitegrid\")"
   ]
  },
  {
   "cell_type": "code",
   "execution_count": 31,
   "id": "0648ac46",
   "metadata": {},
   "outputs": [
    {
     "data": {
      "text/html": [
       "<div>\n",
       "<style scoped>\n",
       "    .dataframe tbody tr th:only-of-type {\n",
       "        vertical-align: middle;\n",
       "    }\n",
       "\n",
       "    .dataframe tbody tr th {\n",
       "        vertical-align: top;\n",
       "    }\n",
       "\n",
       "    .dataframe thead th {\n",
       "        text-align: right;\n",
       "    }\n",
       "</style>\n",
       "<table border=\"1\" class=\"dataframe\">\n",
       "  <thead>\n",
       "    <tr style=\"text-align: right;\">\n",
       "      <th></th>\n",
       "      <th>model</th>\n",
       "      <th>year</th>\n",
       "      <th>price</th>\n",
       "      <th>transmission</th>\n",
       "      <th>mileage</th>\n",
       "      <th>fuelType</th>\n",
       "      <th>mpg</th>\n",
       "      <th>engineSize</th>\n",
       "    </tr>\n",
       "  </thead>\n",
       "  <tbody>\n",
       "    <tr>\n",
       "      <th>0</th>\n",
       "      <td>GT86</td>\n",
       "      <td>2016</td>\n",
       "      <td>16000</td>\n",
       "      <td>Manual</td>\n",
       "      <td>24089</td>\n",
       "      <td>Petrol</td>\n",
       "      <td>36.2</td>\n",
       "      <td>2.0</td>\n",
       "    </tr>\n",
       "    <tr>\n",
       "      <th>1</th>\n",
       "      <td>GT86</td>\n",
       "      <td>2017</td>\n",
       "      <td>15995</td>\n",
       "      <td>Manual</td>\n",
       "      <td>18615</td>\n",
       "      <td>Petrol</td>\n",
       "      <td>36.2</td>\n",
       "      <td>2.0</td>\n",
       "    </tr>\n",
       "    <tr>\n",
       "      <th>2</th>\n",
       "      <td>GT86</td>\n",
       "      <td>2015</td>\n",
       "      <td>13998</td>\n",
       "      <td>Manual</td>\n",
       "      <td>27469</td>\n",
       "      <td>Petrol</td>\n",
       "      <td>36.2</td>\n",
       "      <td>2.0</td>\n",
       "    </tr>\n",
       "    <tr>\n",
       "      <th>3</th>\n",
       "      <td>GT86</td>\n",
       "      <td>2017</td>\n",
       "      <td>18998</td>\n",
       "      <td>Manual</td>\n",
       "      <td>14736</td>\n",
       "      <td>Petrol</td>\n",
       "      <td>36.2</td>\n",
       "      <td>2.0</td>\n",
       "    </tr>\n",
       "    <tr>\n",
       "      <th>4</th>\n",
       "      <td>GT86</td>\n",
       "      <td>2017</td>\n",
       "      <td>17498</td>\n",
       "      <td>Manual</td>\n",
       "      <td>36284</td>\n",
       "      <td>Petrol</td>\n",
       "      <td>36.2</td>\n",
       "      <td>2.0</td>\n",
       "    </tr>\n",
       "  </tbody>\n",
       "</table>\n",
       "</div>"
      ],
      "text/plain": [
       "  model  year  price transmission  mileage fuelType   mpg  engineSize\n",
       "0  GT86  2016  16000       Manual    24089   Petrol  36.2         2.0\n",
       "1  GT86  2017  15995       Manual    18615   Petrol  36.2         2.0\n",
       "2  GT86  2015  13998       Manual    27469   Petrol  36.2         2.0\n",
       "3  GT86  2017  18998       Manual    14736   Petrol  36.2         2.0\n",
       "4  GT86  2017  17498       Manual    36284   Petrol  36.2         2.0"
      ]
     },
     "metadata": {},
     "output_type": "display_data"
    }
   ],
   "source": [
    "hw3 = pd.read_csv(\"toyota - Sheet1.csv\")\n",
    "display(hw3.head())"
   ]
  },
  {
   "cell_type": "markdown",
   "id": "6aa02321",
   "metadata": {},
   "source": [
    "##### EDA using groupby based on model"
   ]
  },
  {
   "cell_type": "code",
   "execution_count": 58,
   "id": "4e813e34",
   "metadata": {},
   "outputs": [
    {
     "data": {
      "text/html": [
       "<div>\n",
       "<style scoped>\n",
       "    .dataframe tbody tr th:only-of-type {\n",
       "        vertical-align: middle;\n",
       "    }\n",
       "\n",
       "    .dataframe tbody tr th {\n",
       "        vertical-align: top;\n",
       "    }\n",
       "\n",
       "    .dataframe thead th {\n",
       "        text-align: right;\n",
       "    }\n",
       "</style>\n",
       "<table border=\"1\" class=\"dataframe\">\n",
       "  <thead>\n",
       "    <tr style=\"text-align: right;\">\n",
       "      <th></th>\n",
       "      <th>count</th>\n",
       "      <th>mean</th>\n",
       "      <th>sum</th>\n",
       "      <th>percent_of_cars</th>\n",
       "    </tr>\n",
       "    <tr>\n",
       "      <th>model</th>\n",
       "      <th></th>\n",
       "      <th></th>\n",
       "      <th></th>\n",
       "      <th></th>\n",
       "    </tr>\n",
       "  </thead>\n",
       "  <tbody>\n",
       "    <tr>\n",
       "      <th>Yaris</th>\n",
       "      <td>2122</td>\n",
       "      <td>10553.083883</td>\n",
       "      <td>22.393644</td>\n",
       "      <td>31.493025</td>\n",
       "    </tr>\n",
       "    <tr>\n",
       "      <th>Aygo</th>\n",
       "      <td>1961</td>\n",
       "      <td>7905.414584</td>\n",
       "      <td>15.502518</td>\n",
       "      <td>29.103592</td>\n",
       "    </tr>\n",
       "    <tr>\n",
       "      <th>Auris</th>\n",
       "      <td>712</td>\n",
       "      <td>12507.911517</td>\n",
       "      <td>8.905633</td>\n",
       "      <td>10.566934</td>\n",
       "    </tr>\n",
       "    <tr>\n",
       "      <th>C-HR</th>\n",
       "      <td>479</td>\n",
       "      <td>20651.540710</td>\n",
       "      <td>9.892088</td>\n",
       "      <td>7.108934</td>\n",
       "    </tr>\n",
       "    <tr>\n",
       "      <th>RAV4</th>\n",
       "      <td>473</td>\n",
       "      <td>18161.059197</td>\n",
       "      <td>8.590181</td>\n",
       "      <td>7.019887</td>\n",
       "    </tr>\n",
       "    <tr>\n",
       "      <th>Corolla</th>\n",
       "      <td>267</td>\n",
       "      <td>20942.734082</td>\n",
       "      <td>5.591710</td>\n",
       "      <td>3.962600</td>\n",
       "    </tr>\n",
       "    <tr>\n",
       "      <th>Prius</th>\n",
       "      <td>232</td>\n",
       "      <td>18998.844828</td>\n",
       "      <td>4.407732</td>\n",
       "      <td>3.443158</td>\n",
       "    </tr>\n",
       "    <tr>\n",
       "      <th>Avensis</th>\n",
       "      <td>115</td>\n",
       "      <td>9884.356522</td>\n",
       "      <td>1.136701</td>\n",
       "      <td>1.706738</td>\n",
       "    </tr>\n",
       "    <tr>\n",
       "      <th>Verso</th>\n",
       "      <td>114</td>\n",
       "      <td>12169.157895</td>\n",
       "      <td>1.387284</td>\n",
       "      <td>1.691897</td>\n",
       "    </tr>\n",
       "    <tr>\n",
       "      <th>Hilux</th>\n",
       "      <td>86</td>\n",
       "      <td>21504.593023</td>\n",
       "      <td>1.849395</td>\n",
       "      <td>1.276343</td>\n",
       "    </tr>\n",
       "    <tr>\n",
       "      <th>GT86</th>\n",
       "      <td>73</td>\n",
       "      <td>19908.849315</td>\n",
       "      <td>1.453346</td>\n",
       "      <td>1.083408</td>\n",
       "    </tr>\n",
       "    <tr>\n",
       "      <th>Land Cruiser</th>\n",
       "      <td>51</td>\n",
       "      <td>36487.156863</td>\n",
       "      <td>1.860845</td>\n",
       "      <td>0.756901</td>\n",
       "    </tr>\n",
       "    <tr>\n",
       "      <th>PROACE VERSO</th>\n",
       "      <td>15</td>\n",
       "      <td>28680.200000</td>\n",
       "      <td>0.430203</td>\n",
       "      <td>0.222618</td>\n",
       "    </tr>\n",
       "    <tr>\n",
       "      <th>Supra</th>\n",
       "      <td>12</td>\n",
       "      <td>50741.000000</td>\n",
       "      <td>0.608892</td>\n",
       "      <td>0.178094</td>\n",
       "    </tr>\n",
       "    <tr>\n",
       "      <th>Camry</th>\n",
       "      <td>11</td>\n",
       "      <td>26910.090909</td>\n",
       "      <td>0.296011</td>\n",
       "      <td>0.163253</td>\n",
       "    </tr>\n",
       "    <tr>\n",
       "      <th>IQ</th>\n",
       "      <td>8</td>\n",
       "      <td>4247.250000</td>\n",
       "      <td>0.033978</td>\n",
       "      <td>0.118730</td>\n",
       "    </tr>\n",
       "    <tr>\n",
       "      <th>Urban Cruiser</th>\n",
       "      <td>4</td>\n",
       "      <td>4617.500000</td>\n",
       "      <td>0.018470</td>\n",
       "      <td>0.059365</td>\n",
       "    </tr>\n",
       "    <tr>\n",
       "      <th>Verso-S</th>\n",
       "      <td>3</td>\n",
       "      <td>5746.666667</td>\n",
       "      <td>0.017240</td>\n",
       "      <td>0.044524</td>\n",
       "    </tr>\n",
       "  </tbody>\n",
       "</table>\n",
       "</div>"
      ],
      "text/plain": [
       "               count          mean        sum  percent_of_cars\n",
       "model                                                         \n",
       "Yaris           2122  10553.083883  22.393644        31.493025\n",
       "Aygo            1961   7905.414584  15.502518        29.103592\n",
       "Auris            712  12507.911517   8.905633        10.566934\n",
       "C-HR             479  20651.540710   9.892088         7.108934\n",
       "RAV4             473  18161.059197   8.590181         7.019887\n",
       "Corolla          267  20942.734082   5.591710         3.962600\n",
       "Prius            232  18998.844828   4.407732         3.443158\n",
       "Avensis          115   9884.356522   1.136701         1.706738\n",
       "Verso            114  12169.157895   1.387284         1.691897\n",
       "Hilux             86  21504.593023   1.849395         1.276343\n",
       "GT86              73  19908.849315   1.453346         1.083408\n",
       "Land Cruiser      51  36487.156863   1.860845         0.756901\n",
       "PROACE VERSO      15  28680.200000   0.430203         0.222618\n",
       "Supra             12  50741.000000   0.608892         0.178094\n",
       "Camry             11  26910.090909   0.296011         0.163253\n",
       "IQ                 8   4247.250000   0.033978         0.118730\n",
       "Urban Cruiser      4   4617.500000   0.018470         0.059365\n",
       "Verso-S            3   5746.666667   0.017240         0.044524"
      ]
     },
     "metadata": {},
     "output_type": "display_data"
    }
   ],
   "source": [
    "hw3_agg = hw3.groupby('model')['price'].agg(['count', 'mean', 'sum'])\n",
    "hw3_agg = hw3_agg.sort_values(by='count', ascending=False)\n",
    "hw3_agg['percent_of_cars'] = (hw3_agg['count']/hw3_agg['count'].sum())*100\n",
    "hw3_agg['sum'] = hw3_agg['sum']/1000000\n",
    "display(hw3_agg)"
   ]
  },
  {
   "cell_type": "markdown",
   "id": "ef30031d",
   "metadata": {},
   "source": [
    "##### The top 5 selling car models are  Yaris,Aygo,Auris,C-HR,RAV4\t"
   ]
  },
  {
   "cell_type": "markdown",
   "id": "c053c785",
   "metadata": {},
   "source": [
    "#####  Percentage of cars, Average and Total selling price of cars by model\n"
   ]
  },
  {
   "cell_type": "code",
   "execution_count": 52,
   "id": "3b6d8cdf",
   "metadata": {},
   "outputs": [
    {
     "data": {
      "image/png": "[encoded data removed]",
      "text/plain": [
       "<Figure size 1440x720 with 3 Axes>"
      ]
     },
     "metadata": {},
     "output_type": "display_data"
    }
   ],
   "source": [
    "plt.figure(figsize=(20,10))\n",
    "plt.subplot(1, 3, 1)\n",
    "sns.barplot(x='percent_of_cars', y=hw3_agg.index, data=hw3_agg, orient='h', color='yellow')\n",
    "plt.title(\" % of cars in each model\")\n",
    "plt.xlabel(\" (%) of cars\")\n",
    "plt.subplot(1, 3, 2)\n",
    "sns.barplot(x='mean', y=hw3_agg.index, data=hw3_agg, orient='h', color='blue')\n",
    "plt.title(\"Average selling price of each model\")\n",
    "plt.xlabel(\"Average price /($)\")\n",
    "plt.ylabel(\"\")\n",
    "plt.subplot(1, 3, 3)\n",
    "sns.barplot(x='sum', y=hw3_agg.index, data=hw3_agg, orient='h', color='orange')\n",
    "plt.title(\"Total selling price of each model\")\n",
    "plt.xlabel(\"Total price in million $\")\n",
    "plt.ylabel(\"\")\n",
    "plt.suptitle(\"Toyota used car\")\n",
    "plt.tight_layout()\n",
    "plt.show()"
   ]
  },
  {
   "cell_type": "markdown",
   "id": "71b949bd",
   "metadata": {},
   "source": [
    "#### The top 5 selling car models are Yaris,Aygo,Auris,C-HR,RAV4"
   ]
  },
  {
   "cell_type": "markdown",
   "id": "a7ee7cb6",
   "metadata": {},
   "source": [
    "#### EDA using groupby based on transmission"
   ]
  },
  {
   "cell_type": "code",
   "execution_count": 60,
   "id": "937323f3",
   "metadata": {},
   "outputs": [
    {
     "data": {
      "text/html": [
       "<div>\n",
       "<style scoped>\n",
       "    .dataframe tbody tr th:only-of-type {\n",
       "        vertical-align: middle;\n",
       "    }\n",
       "\n",
       "    .dataframe tbody tr th {\n",
       "        vertical-align: top;\n",
       "    }\n",
       "\n",
       "    .dataframe thead th {\n",
       "        text-align: right;\n",
       "    }\n",
       "</style>\n",
       "<table border=\"1\" class=\"dataframe\">\n",
       "  <thead>\n",
       "    <tr style=\"text-align: right;\">\n",
       "      <th></th>\n",
       "      <th>count</th>\n",
       "      <th>mean</th>\n",
       "      <th>sum</th>\n",
       "      <th>percent_of_cars</th>\n",
       "    </tr>\n",
       "    <tr>\n",
       "      <th>transmission</th>\n",
       "      <th></th>\n",
       "      <th></th>\n",
       "      <th></th>\n",
       "      <th></th>\n",
       "    </tr>\n",
       "  </thead>\n",
       "  <tbody>\n",
       "    <tr>\n",
       "      <th>Manual</th>\n",
       "      <td>3826</td>\n",
       "      <td>9551.496864</td>\n",
       "      <td>36.544027</td>\n",
       "      <td>56.782428</td>\n",
       "    </tr>\n",
       "    <tr>\n",
       "      <th>Automatic</th>\n",
       "      <td>2657</td>\n",
       "      <td>16582.828754</td>\n",
       "      <td>44.060576</td>\n",
       "      <td>39.433066</td>\n",
       "    </tr>\n",
       "    <tr>\n",
       "      <th>Semi-Auto</th>\n",
       "      <td>254</td>\n",
       "      <td>14797.137795</td>\n",
       "      <td>3.758473</td>\n",
       "      <td>3.769665</td>\n",
       "    </tr>\n",
       "    <tr>\n",
       "      <th>Other</th>\n",
       "      <td>1</td>\n",
       "      <td>12795.000000</td>\n",
       "      <td>0.012795</td>\n",
       "      <td>0.014841</td>\n",
       "    </tr>\n",
       "  </tbody>\n",
       "</table>\n",
       "</div>"
      ],
      "text/plain": [
       "              count          mean        sum  percent_of_cars\n",
       "transmission                                                 \n",
       "Manual         3826   9551.496864  36.544027        56.782428\n",
       "Automatic      2657  16582.828754  44.060576        39.433066\n",
       "Semi-Auto       254  14797.137795   3.758473         3.769665\n",
       "Other             1  12795.000000   0.012795         0.014841"
      ]
     },
     "metadata": {},
     "output_type": "display_data"
    }
   ],
   "source": [
    "hw3_agg1 = hw3.groupby('transmission')['price'].agg(['count', 'mean', 'sum'])\n",
    "hw3_agg1 = hw3_agg1.sort_values(by='count', ascending=False)\n",
    "hw3_agg1['percent_of_cars'] = (hw3_agg1['count']/hw3_agg1['count'].sum())*100\n",
    "hw3_agg1['sum'] = hw3_agg1['sum']/1000000\n",
    "display(hw3_agg1)"
   ]
  },
  {
   "cell_type": "markdown",
   "id": "b7511a19",
   "metadata": {},
   "source": [
    "#####  Percentage of cars, Average and Total selling price of cars by transmissions"
   ]
  },
  {
   "cell_type": "code",
   "execution_count": 59,
   "id": "0a6b53dd",
   "metadata": {},
   "outputs": [
    {
     "data": {
      "image/png": "[encoded data removed]",
      "text/plain": [
       "<Figure size 1440x576 with 3 Axes>"
      ]
     },
     "metadata": {},
     "output_type": "display_data"
    }
   ],
   "source": [
    "plt.figure(figsize=(20,8))\n",
    "plt.subplot(1, 3, 1)\n",
    "sns.barplot(x='percent_of_cars', y=hw3_agg1.index, data=hw3_agg1, orient='h', color='yellow')\n",
    "plt.title(\" (%) of cars in each transmission\")\n",
    "plt.xlabel(\" (%) of cars\")\n",
    "\n",
    "plt.subplot(1, 3, 2)\n",
    "sns.barplot(x='mean', y=hw3_agg1.index, data=hw3_agg1, orient='h', color='blue')\n",
    "plt.title(\"Average selling price of car by transmission\")\n",
    "plt.xlabel(\"Average price / ($)\")\n",
    "plt.ylabel(\"\")\n",
    "plt.subplot(1, 3, 3)\n",
    "sns.barplot(x='sum', y=hw3_agg1.index, data=hw3_agg1, orient='h', color='orange')\n",
    "plt.title(\"total selling price  of the cars by transmission\")\n",
    "plt.xlabel(\"Total price in million $\")\n",
    "plt.ylabel(\"\")\n",
    "plt.suptitle(\"Toyota used car\")\n",
    "plt.tight_layout()\n",
    "plt.show()"
   ]
  },
  {
   "cell_type": "markdown",
   "id": "60e16820",
   "metadata": {},
   "source": [
    "#### Manual cars have the largest percentage but both the average and  total selling price of automatic cars are greater than of that."
   ]
  },
  {
   "cell_type": "markdown",
   "id": "d42763c5",
   "metadata": {},
   "source": [
    "#### EDA using groupby based on Fueltype"
   ]
  },
  {
   "cell_type": "code",
   "execution_count": 61,
   "id": "070ac077",
   "metadata": {},
   "outputs": [
    {
     "data": {
      "text/html": [
       "<div>\n",
       "<style scoped>\n",
       "    .dataframe tbody tr th:only-of-type {\n",
       "        vertical-align: middle;\n",
       "    }\n",
       "\n",
       "    .dataframe tbody tr th {\n",
       "        vertical-align: top;\n",
       "    }\n",
       "\n",
       "    .dataframe thead th {\n",
       "        text-align: right;\n",
       "    }\n",
       "</style>\n",
       "<table border=\"1\" class=\"dataframe\">\n",
       "  <thead>\n",
       "    <tr style=\"text-align: right;\">\n",
       "      <th></th>\n",
       "      <th>count</th>\n",
       "      <th>mean</th>\n",
       "      <th>sum</th>\n",
       "      <th>percent_of_cars</th>\n",
       "    </tr>\n",
       "    <tr>\n",
       "      <th>fuelType</th>\n",
       "      <th></th>\n",
       "      <th></th>\n",
       "      <th></th>\n",
       "      <th></th>\n",
       "    </tr>\n",
       "  </thead>\n",
       "  <tbody>\n",
       "    <tr>\n",
       "      <th>Petrol</th>\n",
       "      <td>4087</td>\n",
       "      <td>9759.537803</td>\n",
       "      <td>39.887231</td>\n",
       "      <td>60.655981</td>\n",
       "    </tr>\n",
       "    <tr>\n",
       "      <th>Hybrid</th>\n",
       "      <td>2043</td>\n",
       "      <td>17185.472834</td>\n",
       "      <td>35.109921</td>\n",
       "      <td>30.320570</td>\n",
       "    </tr>\n",
       "    <tr>\n",
       "      <th>Diesel</th>\n",
       "      <td>503</td>\n",
       "      <td>15697.807157</td>\n",
       "      <td>7.895997</td>\n",
       "      <td>7.465123</td>\n",
       "    </tr>\n",
       "    <tr>\n",
       "      <th>Other</th>\n",
       "      <td>105</td>\n",
       "      <td>14121.161905</td>\n",
       "      <td>1.482722</td>\n",
       "      <td>1.558326</td>\n",
       "    </tr>\n",
       "  </tbody>\n",
       "</table>\n",
       "</div>"
      ],
      "text/plain": [
       "          count          mean        sum  percent_of_cars\n",
       "fuelType                                                 \n",
       "Petrol     4087   9759.537803  39.887231        60.655981\n",
       "Hybrid     2043  17185.472834  35.109921        30.320570\n",
       "Diesel      503  15697.807157   7.895997         7.465123\n",
       "Other       105  14121.161905   1.482722         1.558326"
      ]
     },
     "metadata": {},
     "output_type": "display_data"
    }
   ],
   "source": [
    "hw3_agg2 = hw3.groupby('fuelType')['price'].agg(['count', 'mean', 'sum'])\n",
    "hw3_agg2 = hw3_agg2.sort_values(by='count', ascending=False)\n",
    "hw3_agg2['percent_of_cars'] = (hw3_agg2['count']/hw3_agg2['count'].sum())*100\n",
    "hw3_agg2['sum'] = hw3_agg2['sum']/1000000\n",
    "display(hw3_agg2)"
   ]
  },
  {
   "cell_type": "markdown",
   "id": "0f56a306",
   "metadata": {},
   "source": [
    "#####  Percentage of cars, Average and Total selling price of cars by fuelType"
   ]
  },
  {
   "cell_type": "code",
   "execution_count": 55,
   "id": "c4198448",
   "metadata": {},
   "outputs": [
    {
     "data": {
      "image/png": "[encoded data removed]",
      "text/plain": [
       "<Figure size 1440x720 with 3 Axes>"
      ]
     },
     "metadata": {},
     "output_type": "display_data"
    }
   ],
   "source": [
    "plt.figure(figsize=(20,10))\n",
    "plt.subplot(1, 3, 1)\n",
    "sns.barplot(x='percent_of_cars', y=hw3_agg2.index, data=hw3_agg2, orient='h', color='yellow')\n",
    "plt.title(\"Percentage of cars in each fuelType\")\n",
    "plt.xlabel(\" (%) of cars\")\n",
    "plt.subplot(1, 3, 2)\n",
    "sns.barplot(x='mean', y=hw3_agg2.index, data=hw3_agg2, orient='h', color='blue')\n",
    "plt.title(\"Average selling price of car by  each fuelType\")\n",
    "plt.xlabel(\"Average price / ($)\")\n",
    "plt.ylabel(\"\")\n",
    "plt.subplot(1, 3, 3)\n",
    "sns.barplot(x='sum', y=hw3_agg2.index, data=hw3_agg2, orient='h', color='orange')\n",
    "plt.title(\"total selling price of the cars by each fuelType\")\n",
    "plt.xlabel(\"Total price in million($)\")\n",
    "plt.ylabel(\"\")\n",
    "plt.suptitle(\"Toyota used car\")\n",
    "plt.tight_layout()\n",
    "plt.show()"
   ]
  },
  {
   "cell_type": "markdown",
   "id": "b813ef9d",
   "metadata": {},
   "source": [
    "#### Toyota cars are mostly petrol based"
   ]
  }
 ],
 "metadata": {
  "kernelspec": {
   "display_name": "Python 3",
   "language": "python",
   "name": "python3"
  },
  "language_info": {
   "codemirror_mode": {
    "name": "ipython",
    "version": 3
   },
   "file_extension": ".py",
   "mimetype": "text/x-python",
   "name": "python",
   "nbconvert_exporter": "python",
   "pygments_lexer": "ipython3",
   "version": "3.8.8"
  }
 },
 "nbformat": 4,
 "nbformat_minor": 5
}
